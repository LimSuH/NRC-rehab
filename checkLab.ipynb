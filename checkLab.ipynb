{
 "cells": [
  {
   "cell_type": "code",
   "execution_count": null,
   "metadata": {},
   "outputs": [],
   "source": [
    "import pandas as pd \n",
    "import numpy as np \n",
    "import os\n",
    "import csv\n",
    "import matplotlib.pyplot as plt\n",
    "import glob"
   ]
  },
  {
   "cell_type": "code",
   "execution_count": null,
   "metadata": {},
   "outputs": [],
   "source": [
    "#NRC\n",
    "neighbor_1base=[(0, 1), (0, 2), (1, 3), (2, 4), (3, 5), (4, 6), \n",
    "                        (5, 9), (9, 10), (10, 11), (9, 12), (12, 13), (9, 14), (9, 15), (9, 16), \n",
    "                        (6, 17), (17, 18), (18, 19), (17, 20), (20, 21), (17, 22), (17, 23), (17, 24)]\n",
    "\n",
    "body_parts = [0, 1, 2, 5, 6, 7, 8, 9, 10,\n",
    "        91, 93, 95, 96, 99, 103, 107, 111, \n",
    "        112, 114, 116, 117, 120, 124, 128, 132]"
   ]
  },
  {
   "cell_type": "code",
   "execution_count": null,
   "metadata": {},
   "outputs": [],
   "source": [
    "#KIMORE\n",
    "neighbor_1base = [(1, 2), (2, 21), (3, 21), (4, 3), (5, 21),\n",
    "                                      (6, 5), (7, 6), (8, 7), (9, 21), (10, 9),\n",
    "                                      (11, 10), (12, 11), (13, 1), (14, 13), (15, 14),\n",
    "                                      (16, 15), (17, 1), (18, 17), (19, 18), (20, 19),\n",
    "                                      (22, 23), (23, 8), (24, 25), (25, 12)]\n",
    "\n",
    "body_parts = ['index_Spine_Base', 'index_Spine_Mid', 'index_Neck', 'index_Head', 'index_Shoulder_Left', \n",
    "                      'index_Elbow_Left', 'index_Wrist_Left', 'index_Hand_Left', 'index_Shoulder_Right', 'index_Elbow_Right', \n",
    "                      'index_Wrist_Right', 'index_Hand_Right', 'index_Hip_Left', \n",
    "                      \n",
    "                      \n",
    "                      \n",
    "                      \n",
    "                      'index_Knee_Left', 'index_Ankle_Left', \n",
    "                     'index_Foot_Left', 'index_Hip_Right', 'index_Knee_Right', 'index_Ankle_Right', 'index_Ankle_Right', 'index_Spine_Shoulder', \n",
    "                      'index_Tip_Left', 'index_Thumb_Left', 'index_Tip_Right', 'index_Thumb_Right'\n",
    "                      ]"
   ]
  },
  {
   "cell_type": "markdown",
   "metadata": {},
   "source": [
    "## Check The Datasets\n",
    "please change to your dataset"
   ]
  },
  {
   "cell_type": "code",
   "execution_count": null,
   "metadata": {},
   "outputs": [
    {
     "data": {
      "text/plain": [
       "(155, 532)"
      ]
     },
     "execution_count": 2,
     "metadata": {},
     "output_type": "execute_result"
    }
   ],
   "source": [
    "sample = np.load('/dataset/NRC_skeleton/npy_withz_segment/ND18_day1_session7_label4.npy')\n",
    "sample.shape #(155, 532)\n",
    "sample = sample.reshape(155, 133, 4)"
   ]
  },
  {
   "cell_type": "code",
   "execution_count": null,
   "metadata": {},
   "outputs": [],
   "source": [
    "import matplotlib.pyplot as plt\n",
    "from IPython import display\n",
    "import copy\n",
    "\n",
    "for i in aframe:\n",
    "        fig = plt.figure(figsize=(6, 6))\n",
    "        ax = fig.add_subplot(111, projection='3d')\n",
    "        ax.scatter(i[:25,0], i[:25,1], i[:25,2])\n",
    "\n",
    "        for l in neighbor_1base:\n",
    "                side = body_parts[l[0]-1]\n",
    "                side = side.split('_')[-1]\n",
    "                if side == 'Left':\n",
    "                        color = 'blue'\n",
    "                elif side == 'Right':\n",
    "                        color = 'red'\n",
    "                else:\n",
    "                        color = 'green'\n",
    "                ax.plot([i[l[0]-1, 0],i[l[1]-1, 0]], [i[l[0]-1,1],i[l[1]-1,1]], [i[l[0]-1,2], i[l[1]-1,2]], c=color)\n",
    "\n",
    "        ax.view_init(150,60)\n",
    "        display.clear_output(wait=True)\n",
    "        display.display(plt.gcf())\n",
    "        plt.show()\n",
    "        plt.cla()"
   ]
  },
  {
   "cell_type": "markdown",
   "metadata": {},
   "source": [
    "### this is KIMORE & rehab model lab"
   ]
  },
  {
   "cell_type": "code",
   "execution_count": null,
   "metadata": {},
   "outputs": [
    {
     "name": "stderr",
     "output_type": "stream",
     "text": [
      "/home/neuronS1/anaconda3/envs/NRC/lib/python3.7/site-packages/tqdm/auto.py:22: TqdmWarning: IProgress not found. Please update jupyter and ipywidgets. See https://ipywidgets.readthedocs.io/en/stable/user_install.html\n",
      "  from .autonotebook import tqdm as notebook_tqdm\n"
     ]
    },
    {
     "ename": "ModuleNotFoundError",
     "evalue": "No module named 'preprocess'",
     "output_type": "error",
     "traceback": [
      "\u001b[0;31m---------------------------------------------------------------------------\u001b[0m",
      "\u001b[0;31mModuleNotFoundError\u001b[0m                       Traceback (most recent call last)",
      "\u001b[0;32m/tmp/ipykernel_208358/2231741881.py\u001b[0m in \u001b[0;36m<module>\u001b[0;34m\u001b[0m\n\u001b[1;32m      1\u001b[0m \u001b[0;32mimport\u001b[0m \u001b[0mmy_rehab\u001b[0m\u001b[0;34m.\u001b[0m\u001b[0msgcn_lstm\u001b[0m\u001b[0;34m\u001b[0m\u001b[0;34m\u001b[0m\u001b[0m\n\u001b[1;32m      2\u001b[0m \u001b[0;32mfrom\u001b[0m \u001b[0mmy_rehab\u001b[0m\u001b[0;34m.\u001b[0m\u001b[0msgcn_lstm\u001b[0m \u001b[0;32mimport\u001b[0m \u001b[0;34m*\u001b[0m\u001b[0;34m\u001b[0m\u001b[0;34m\u001b[0m\u001b[0m\n\u001b[0;32m----> 3\u001b[0;31m \u001b[0;32mfrom\u001b[0m \u001b[0mmy_rehab\u001b[0m\u001b[0;34m.\u001b[0m\u001b[0mdata_processing\u001b[0m \u001b[0;32mimport\u001b[0m \u001b[0mData_set\u001b[0m\u001b[0;34m,\u001b[0m \u001b[0mNRC_Data_set\u001b[0m\u001b[0;34m\u001b[0m\u001b[0;34m\u001b[0m\u001b[0m\n\u001b[0m\u001b[1;32m      4\u001b[0m \u001b[0;32mfrom\u001b[0m \u001b[0mmy_rehab\u001b[0m\u001b[0;34m.\u001b[0m\u001b[0mgraph\u001b[0m \u001b[0;32mimport\u001b[0m \u001b[0mGraph\u001b[0m\u001b[0;34m\u001b[0m\u001b[0;34m\u001b[0m\u001b[0m\n\u001b[1;32m      5\u001b[0m \u001b[0;32mimport\u001b[0m \u001b[0mSTGCN_rehab\u001b[0m\u001b[0;34m.\u001b[0m\u001b[0mData\u001b[0m\u001b[0;34m\u001b[0m\u001b[0;34m\u001b[0m\u001b[0m\n",
      "\u001b[0;32m~/NRC/my_rehab/data_processing.py\u001b[0m in \u001b[0;36m<module>\u001b[0;34m\u001b[0m\n\u001b[1;32m      6\u001b[0m \u001b[0;32mfrom\u001b[0m \u001b[0mtorch\u001b[0m\u001b[0;34m.\u001b[0m\u001b[0mutils\u001b[0m\u001b[0;34m.\u001b[0m\u001b[0mdata\u001b[0m \u001b[0;32mimport\u001b[0m \u001b[0mDataset\u001b[0m\u001b[0;34m\u001b[0m\u001b[0;34m\u001b[0m\u001b[0m\n\u001b[1;32m      7\u001b[0m \u001b[0;34m\u001b[0m\u001b[0m\n\u001b[0;32m----> 8\u001b[0;31m \u001b[0;32mimport\u001b[0m \u001b[0mpreprocess\u001b[0m \u001b[0;32mas\u001b[0m \u001b[0mppc\u001b[0m\u001b[0;34m\u001b[0m\u001b[0;34m\u001b[0m\u001b[0m\n\u001b[0m\u001b[1;32m      9\u001b[0m \u001b[0;34m\u001b[0m\u001b[0m\n\u001b[1;32m     10\u001b[0m \u001b[0mindex_Spine_Base\u001b[0m\u001b[0;34m=\u001b[0m\u001b[0;36m0\u001b[0m\u001b[0;34m\u001b[0m\u001b[0;34m\u001b[0m\u001b[0m\n",
      "\u001b[0;31mModuleNotFoundError\u001b[0m: No module named 'preprocess'"
     ]
    }
   ],
   "source": [
    "import my_rehab.sgcn_lstm\n",
    "from my_rehab.sgcn_lstm import *\n",
    "from my_rehab.data_processing import Data_set, NRC_Data_set\n",
    "from my_rehab.graph import Graph\n",
    "import STGCN_rehab.Data\n",
    "from STGCN_rehab.GCN import data_processing as dp\n",
    "\n",
    "from torch.utils.data import DataLoader\n",
    "torch_data = NRC_Data_set('/home/neuronS1/NRC/NRC_rehab_train_ST_02.csv')\n",
    "orin_data = dp.Data_Loader('/dataset2/KIMORE/CG/Expert/E_ID4/Es5/Raw/JointPosition021214_123055.csv', '/home/neuronS1/NRC/Train_Y.csv')\n",
    " \n",
    "graph = Graph(len(torch_data.body_part))\n",
    "traindataset = DataLoader(torch_data, batch_size=1)\n",
    "model = train_network(AD=graph.AD, AD2=graph.AD2, bias_mat_1=graph.bias_mat_1, bias_mat_2=graph.bias_mat_2)"
   ]
  },
  {
   "cell_type": "markdown",
   "metadata": {},
   "source": [
    "### test pretrain mode - for tensorflow ver."
   ]
  },
  {
   "cell_type": "code",
   "execution_count": null,
   "metadata": {},
   "outputs": [
    {
     "name": "stdout",
     "output_type": "stream",
     "text": [
      "2.4.0\n"
     ]
    }
   ],
   "source": [
    "import os\n",
    "\n",
    "import tensorflow as tf\n",
    "from tensorflow import keras\n",
    "\n",
    "print(tf.version.VERSION)\n",
    "new_model = keras.models.load_model('/home/neuronS1/NRC/STGCN_rehab/pretrain model/best_model.hdf5', custom_objects={'tf': tf})"
   ]
  },
  {
   "cell_type": "code",
   "execution_count": null,
   "metadata": {},
   "outputs": [],
   "source": [
    "import STGCN_rehab.Data\n",
    "from STGCN_rehab.GCN import data_processing as dp\n",
    "import numpy as np"
   ]
  },
  {
   "cell_type": "code",
   "execution_count": null,
   "metadata": {},
   "outputs": [],
   "source": [
    "orin_data = dp.Data_Loader('/dataset2/KIMORE/CG/Expert/E_ID4/Es5/Raw/JointPosition021214_123055.csv', '/home/neuronS1/NRC/Train_Y.csv')"
   ]
  },
  {
   "cell_type": "code",
   "execution_count": null,
   "metadata": {},
   "outputs": [],
   "source": [
    "loss, acc = new_model.evaluate(test_images, test_labels, verbose=2)"
   ]
  },
  {
   "cell_type": "markdown",
   "metadata": {},
   "source": [
    "### jerk & rehab model label"
   ]
  },
  {
   "cell_type": "markdown",
   "metadata": {},
   "source": [
    "##### 1. check available"
   ]
  },
  {
   "cell_type": "code",
   "execution_count": null,
   "metadata": {},
   "outputs": [],
   "source": [
    "before_path = '/dataset2/nrc-main-02/data-preprocessed/export/imu_segment/2Stroke03_day1_session3_label08.csv'\n",
    "after_path = '/dataset2/nrc-main-02/data-preprocessed/export/imu_segment/2Stroke03_day4_session3_label08.csv'"
   ]
  },
  {
   "cell_type": "code",
   "execution_count": null,
   "metadata": {},
   "outputs": [],
   "source": [
    "data_df = pd.read_csv(before_path, index_col=0)\n",
    "data_df.reset_index(inplace=True, drop=True)\n",
    "\n",
    "data_accs = [col for col in data_df.columns if 'Acc' in col]\n",
    "data_jerkdf = pd.DataFrame(columns=data_accs, index=data_df.index)\n",
    "\n",
    "for idx in range(len(data_df) - 1):\n",
    "    for col in data_jerkdf.columns:\n",
    "        data_jerkdf.loc[idx, col] = data_df.loc[idx+1, col] - data_df.loc[idx, col]\n",
    "\n",
    "data_med = []\n",
    "for col in data_jerkdf.columns:\n",
    "    data_med.append(data_jerkdf.loc[:, col].abs().median())\n",
    "data_med = np.array(data_med)\n",
    "jerk_score = max(data_med[:3].mean(), data_med[3:].mean())\n",
    "\n",
    "print(\"before_data: \", jerk_score)"
   ]
  },
  {
   "cell_type": "code",
   "execution_count": null,
   "metadata": {},
   "outputs": [],
   "source": [
    "data_df = pd.read_csv(after_path, index_col=0)\n",
    "data_df.reset_index(inplace=True, drop=True)\n",
    "\n",
    "data_accs = [col for col in data_df.columns if 'Acc' in col]\n",
    "data_jerkdf = pd.DataFrame(columns=data_accs, index=data_df.index)\n",
    "\n",
    "for idx in range(len(data_df) - 1):\n",
    "    for col in data_jerkdf.columns:\n",
    "        data_jerkdf.loc[idx, col] = data_df.loc[idx+1, col] - data_df.loc[idx, col]\n",
    "\n",
    "data_med = []\n",
    "for col in data_jerkdf.columns:\n",
    "    data_med.append(data_jerkdf.loc[:, col].abs().median())\n",
    "data_med = np.array(data_med)\n",
    "jerk_score = max(data_med[:3].mean(), data_med[3:].mean())\n",
    "\n",
    "print(\"after_data: \", jerk_score)"
   ]
  },
  {
   "cell_type": "markdown",
   "metadata": {},
   "source": [
    "##### 2. make rehab- label file"
   ]
  },
  {
   "cell_type": "code",
   "execution_count": 39,
   "metadata": {},
   "outputs": [],
   "source": [
    "jerk_list = glob.glob('/dataset2/nrc-main02/data-preprocessed/export/imu_segment/'+\"*.csv\")"
   ]
  },
  {
   "cell_type": "code",
   "execution_count": 96,
   "metadata": {},
   "outputs": [],
   "source": [
    "import csv\n",
    "f1 = open(\"NRC_rehab_train_ST_02.csv\", \"w\")\n",
    "Stroke = csv.writer(f1)\n",
    "\n",
    "f2 = open(\"NRC_rehab_train_ND_02.csv\", \"w\")\n",
    "Nd = csv.writer(f2)"
   ]
  },
  {
   "cell_type": "code",
   "execution_count": 86,
   "metadata": {},
   "outputs": [],
   "source": [
    "import glob\n",
    "dir = '/dataset2/nrc-main02/estimated-json/npy_z/'\n",
    "skeleton_list = glob.glob(dir+\"*\")"
   ]
  },
  {
   "cell_type": "code",
   "execution_count": 87,
   "metadata": {},
   "outputs": [],
   "source": [
    "c1 = 0\n",
    "c2=0\n",
    "c3=0"
   ]
  },
  {
   "cell_type": "code",
   "execution_count": 88,
   "metadata": {},
   "outputs": [
    {
     "data": {
      "text/plain": [
       "(5940, 6301)"
      ]
     },
     "execution_count": 88,
     "metadata": {},
     "output_type": "execute_result"
    }
   ],
   "source": [
    "len(jerk_list), len(skeleton_list)"
   ]
  },
  {
   "cell_type": "code",
   "execution_count": 32,
   "metadata": {},
   "outputs": [
    {
     "data": {
      "text/html": [
       "<div>\n",
       "<style scoped>\n",
       "    .dataframe tbody tr th:only-of-type {\n",
       "        vertical-align: middle;\n",
       "    }\n",
       "\n",
       "    .dataframe tbody tr th {\n",
       "        vertical-align: top;\n",
       "    }\n",
       "\n",
       "    .dataframe thead th {\n",
       "        text-align: right;\n",
       "    }\n",
       "</style>\n",
       "<table border=\"1\" class=\"dataframe\">\n",
       "  <thead>\n",
       "    <tr style=\"text-align: right;\">\n",
       "      <th></th>\n",
       "      <th>datetime</th>\n",
       "      <th>L_Acc_X</th>\n",
       "      <th>L_Acc_Y</th>\n",
       "      <th>L_Acc_Z</th>\n",
       "      <th>L_Gyr_X</th>\n",
       "      <th>L_Gyr_Y</th>\n",
       "      <th>L_Gyr_Z</th>\n",
       "      <th>R_Acc_X</th>\n",
       "      <th>R_Acc_Y</th>\n",
       "      <th>R_Acc_Z</th>\n",
       "      <th>R_Gyr_X</th>\n",
       "      <th>R_Gyr_Y</th>\n",
       "      <th>R_Gyr_Z</th>\n",
       "      <th>session</th>\n",
       "      <th>label</th>\n",
       "    </tr>\n",
       "  </thead>\n",
       "  <tbody>\n",
       "    <tr>\n",
       "      <th>27</th>\n",
       "      <td>2024-10-18 12:47:33.369474</td>\n",
       "      <td>-7.614986</td>\n",
       "      <td>-3.363549</td>\n",
       "      <td>5.053604</td>\n",
       "      <td>-2.896855</td>\n",
       "      <td>-1.275225</td>\n",
       "      <td>-3.634705</td>\n",
       "      <td>3.412898</td>\n",
       "      <td>-2.110647</td>\n",
       "      <td>6.326813</td>\n",
       "      <td>-51.970947</td>\n",
       "      <td>-10.028509</td>\n",
       "      <td>40.603363</td>\n",
       "      <td>4</td>\n",
       "      <td>2</td>\n",
       "    </tr>\n",
       "    <tr>\n",
       "      <th>28</th>\n",
       "      <td>2024-10-18 12:47:33.386141</td>\n",
       "      <td>-7.719246</td>\n",
       "      <td>-3.389643</td>\n",
       "      <td>5.067219</td>\n",
       "      <td>-2.280740</td>\n",
       "      <td>-1.824489</td>\n",
       "      <td>-3.013891</td>\n",
       "      <td>3.609621</td>\n",
       "      <td>-2.002658</td>\n",
       "      <td>6.460279</td>\n",
       "      <td>-38.076256</td>\n",
       "      <td>-12.117304</td>\n",
       "      <td>43.225109</td>\n",
       "      <td>4</td>\n",
       "      <td>2</td>\n",
       "    </tr>\n",
       "    <tr>\n",
       "      <th>29</th>\n",
       "      <td>2024-10-18 12:47:33.402808</td>\n",
       "      <td>-7.773113</td>\n",
       "      <td>-3.420020</td>\n",
       "      <td>5.146438</td>\n",
       "      <td>-1.463081</td>\n",
       "      <td>-2.356618</td>\n",
       "      <td>-2.834078</td>\n",
       "      <td>3.849570</td>\n",
       "      <td>-1.717398</td>\n",
       "      <td>6.762733</td>\n",
       "      <td>-31.689192</td>\n",
       "      <td>-11.511996</td>\n",
       "      <td>46.275845</td>\n",
       "      <td>4</td>\n",
       "      <td>2</td>\n",
       "    </tr>\n",
       "    <tr>\n",
       "      <th>30</th>\n",
       "      <td>2024-10-18 12:47:33.419475</td>\n",
       "      <td>-7.737568</td>\n",
       "      <td>-3.364017</td>\n",
       "      <td>5.176956</td>\n",
       "      <td>-0.776327</td>\n",
       "      <td>-2.994900</td>\n",
       "      <td>-2.600016</td>\n",
       "      <td>3.622660</td>\n",
       "      <td>-1.887765</td>\n",
       "      <td>7.137947</td>\n",
       "      <td>-39.567940</td>\n",
       "      <td>-12.656790</td>\n",
       "      <td>44.653145</td>\n",
       "      <td>4</td>\n",
       "      <td>2</td>\n",
       "    </tr>\n",
       "    <tr>\n",
       "      <th>31</th>\n",
       "      <td>2024-10-18 12:47:33.436142</td>\n",
       "      <td>-7.667928</td>\n",
       "      <td>-3.307122</td>\n",
       "      <td>5.217874</td>\n",
       "      <td>-1.137658</td>\n",
       "      <td>-3.735568</td>\n",
       "      <td>-2.023743</td>\n",
       "      <td>3.209963</td>\n",
       "      <td>-2.720409</td>\n",
       "      <td>7.491507</td>\n",
       "      <td>-44.855339</td>\n",
       "      <td>-18.140959</td>\n",
       "      <td>40.979309</td>\n",
       "      <td>4</td>\n",
       "      <td>2</td>\n",
       "    </tr>\n",
       "    <tr>\n",
       "      <th>...</th>\n",
       "      <td>...</td>\n",
       "      <td>...</td>\n",
       "      <td>...</td>\n",
       "      <td>...</td>\n",
       "      <td>...</td>\n",
       "      <td>...</td>\n",
       "      <td>...</td>\n",
       "      <td>...</td>\n",
       "      <td>...</td>\n",
       "      <td>...</td>\n",
       "      <td>...</td>\n",
       "      <td>...</td>\n",
       "      <td>...</td>\n",
       "      <td>...</td>\n",
       "      <td>...</td>\n",
       "    </tr>\n",
       "    <tr>\n",
       "      <th>551</th>\n",
       "      <td>2024-10-18 12:47:42.102982</td>\n",
       "      <td>-7.773157</td>\n",
       "      <td>-3.151994</td>\n",
       "      <td>5.160930</td>\n",
       "      <td>5.157829</td>\n",
       "      <td>0.872606</td>\n",
       "      <td>0.108617</td>\n",
       "      <td>-1.274383</td>\n",
       "      <td>2.140020</td>\n",
       "      <td>9.553386</td>\n",
       "      <td>13.534707</td>\n",
       "      <td>-4.880151</td>\n",
       "      <td>2.470475</td>\n",
       "      <td>4</td>\n",
       "      <td>2</td>\n",
       "    </tr>\n",
       "    <tr>\n",
       "      <th>552</th>\n",
       "      <td>2024-10-18 12:47:42.119649</td>\n",
       "      <td>-7.750852</td>\n",
       "      <td>-3.149096</td>\n",
       "      <td>5.184074</td>\n",
       "      <td>3.964641</td>\n",
       "      <td>0.544027</td>\n",
       "      <td>-0.154758</td>\n",
       "      <td>-1.153973</td>\n",
       "      <td>2.775920</td>\n",
       "      <td>9.530676</td>\n",
       "      <td>15.520220</td>\n",
       "      <td>-3.410789</td>\n",
       "      <td>1.029529</td>\n",
       "      <td>4</td>\n",
       "      <td>2</td>\n",
       "    </tr>\n",
       "    <tr>\n",
       "      <th>559</th>\n",
       "      <td>2024-10-18 12:47:42.236318</td>\n",
       "      <td>-7.703014</td>\n",
       "      <td>-3.142288</td>\n",
       "      <td>5.390872</td>\n",
       "      <td>2.153721</td>\n",
       "      <td>-2.188727</td>\n",
       "      <td>2.250627</td>\n",
       "      <td>-1.629849</td>\n",
       "      <td>2.152736</td>\n",
       "      <td>9.462541</td>\n",
       "      <td>-9.678972</td>\n",
       "      <td>-5.033787</td>\n",
       "      <td>0.231308</td>\n",
       "      <td>4</td>\n",
       "      <td>2</td>\n",
       "    </tr>\n",
       "    <tr>\n",
       "      <th>562</th>\n",
       "      <td>2024-10-18 12:47:42.286319</td>\n",
       "      <td>-7.712762</td>\n",
       "      <td>-3.205992</td>\n",
       "      <td>5.114915</td>\n",
       "      <td>0.419049</td>\n",
       "      <td>-1.961465</td>\n",
       "      <td>1.139637</td>\n",
       "      <td>-1.291290</td>\n",
       "      <td>2.645359</td>\n",
       "      <td>9.461684</td>\n",
       "      <td>-3.301575</td>\n",
       "      <td>-9.800444</td>\n",
       "      <td>8.269218</td>\n",
       "      <td>4</td>\n",
       "      <td>2</td>\n",
       "    </tr>\n",
       "    <tr>\n",
       "      <th>563</th>\n",
       "      <td>2024-10-18 12:47:42.302986</td>\n",
       "      <td>-7.824249</td>\n",
       "      <td>-3.323842</td>\n",
       "      <td>5.149100</td>\n",
       "      <td>1.760015</td>\n",
       "      <td>-1.415018</td>\n",
       "      <td>0.649423</td>\n",
       "      <td>-1.290668</td>\n",
       "      <td>2.730915</td>\n",
       "      <td>9.532262</td>\n",
       "      <td>-5.666960</td>\n",
       "      <td>-8.679246</td>\n",
       "      <td>8.442271</td>\n",
       "      <td>4</td>\n",
       "      <td>2</td>\n",
       "    </tr>\n",
       "  </tbody>\n",
       "</table>\n",
       "<p>434 rows × 15 columns</p>\n",
       "</div>"
      ],
      "text/plain": [
       "                       datetime   L_Acc_X   L_Acc_Y   L_Acc_Z   L_Gyr_X  \\\n",
       "27   2024-10-18 12:47:33.369474 -7.614986 -3.363549  5.053604 -2.896855   \n",
       "28   2024-10-18 12:47:33.386141 -7.719246 -3.389643  5.067219 -2.280740   \n",
       "29   2024-10-18 12:47:33.402808 -7.773113 -3.420020  5.146438 -1.463081   \n",
       "30   2024-10-18 12:47:33.419475 -7.737568 -3.364017  5.176956 -0.776327   \n",
       "31   2024-10-18 12:47:33.436142 -7.667928 -3.307122  5.217874 -1.137658   \n",
       "..                          ...       ...       ...       ...       ...   \n",
       "551  2024-10-18 12:47:42.102982 -7.773157 -3.151994  5.160930  5.157829   \n",
       "552  2024-10-18 12:47:42.119649 -7.750852 -3.149096  5.184074  3.964641   \n",
       "559  2024-10-18 12:47:42.236318 -7.703014 -3.142288  5.390872  2.153721   \n",
       "562  2024-10-18 12:47:42.286319 -7.712762 -3.205992  5.114915  0.419049   \n",
       "563  2024-10-18 12:47:42.302986 -7.824249 -3.323842  5.149100  1.760015   \n",
       "\n",
       "      L_Gyr_Y   L_Gyr_Z   R_Acc_X   R_Acc_Y   R_Acc_Z    R_Gyr_X    R_Gyr_Y  \\\n",
       "27  -1.275225 -3.634705  3.412898 -2.110647  6.326813 -51.970947 -10.028509   \n",
       "28  -1.824489 -3.013891  3.609621 -2.002658  6.460279 -38.076256 -12.117304   \n",
       "29  -2.356618 -2.834078  3.849570 -1.717398  6.762733 -31.689192 -11.511996   \n",
       "30  -2.994900 -2.600016  3.622660 -1.887765  7.137947 -39.567940 -12.656790   \n",
       "31  -3.735568 -2.023743  3.209963 -2.720409  7.491507 -44.855339 -18.140959   \n",
       "..        ...       ...       ...       ...       ...        ...        ...   \n",
       "551  0.872606  0.108617 -1.274383  2.140020  9.553386  13.534707  -4.880151   \n",
       "552  0.544027 -0.154758 -1.153973  2.775920  9.530676  15.520220  -3.410789   \n",
       "559 -2.188727  2.250627 -1.629849  2.152736  9.462541  -9.678972  -5.033787   \n",
       "562 -1.961465  1.139637 -1.291290  2.645359  9.461684  -3.301575  -9.800444   \n",
       "563 -1.415018  0.649423 -1.290668  2.730915  9.532262  -5.666960  -8.679246   \n",
       "\n",
       "       R_Gyr_Z  session  label  \n",
       "27   40.603363        4      2  \n",
       "28   43.225109        4      2  \n",
       "29   46.275845        4      2  \n",
       "30   44.653145        4      2  \n",
       "31   40.979309        4      2  \n",
       "..         ...      ...    ...  \n",
       "551   2.470475        4      2  \n",
       "552   1.029529        4      2  \n",
       "559   0.231308        4      2  \n",
       "562   8.269218        4      2  \n",
       "563   8.442271        4      2  \n",
       "\n",
       "[434 rows x 15 columns]"
      ]
     },
     "execution_count": 32,
     "metadata": {},
     "output_type": "execute_result"
    }
   ],
   "source": [
    "data_df = pd.read_csv(jerk_list[0], index_col=0)\n",
    "data_df"
   ]
  },
  {
   "cell_type": "code",
   "execution_count": 97,
   "metadata": {},
   "outputs": [],
   "source": [
    "for jl_path in jerk_list:\n",
    "    i = jl_path.split('/')[-1][:-3]\n",
    "    \n",
    "    if i in non:\n",
    "        continue\n",
    "\n",
    "    name = glob.glob(dir+i+'npy')\n",
    "    if len(name) < 1: #only imu\n",
    "        continue\n",
    "    else:#?????\n",
    "        name = name[0]\n",
    "    data_df = pd.read_csv(jl_path, index_col=0)\n",
    "    data_df.reset_index(inplace=True, drop=True)\n",
    "\n",
    "    data_accs = [col for col in data_df.columns if 'Acc' in col]\n",
    "    data_jerkdf = pd.DataFrame(columns=data_accs, index=data_df.index)\n",
    "\n",
    "    for idx in range(len(data_df) - 1):\n",
    "        for col in data_jerkdf.columns:\n",
    "            data_jerkdf.loc[idx, col] = data_df.loc[idx+1, col] - data_df.loc[idx, col]\n",
    "\n",
    "    data_med = []\n",
    "    for col in data_jerkdf.columns:\n",
    "        data_med.append(data_jerkdf.loc[:, col].abs().median())\n",
    "    data_med = np.array(data_med)\n",
    "    jerk_score = max(data_med[:3].mean(), data_med[3:].mean())\n",
    "\n",
    "    if np.isnan(jerk_score):\n",
    "        continue\n",
    "\n",
    "    if name.find('ND') == -1:#stroke\n",
    "        Stroke.writerow([name,jerk_score])\n",
    "    else:\n",
    "        Nd.writerow([name,jerk_score])\n",
    "\n",
    "\n",
    "f1.close()\n",
    "f2.close()"
   ]
  },
  {
   "cell_type": "markdown",
   "metadata": {},
   "source": [
    "#### there is the file but inside is empthy"
   ]
  },
  {
   "cell_type": "code",
   "execution_count": 67,
   "metadata": {},
   "outputs": [],
   "source": [
    "f2 = open(\"NRC_rehab_train_ND_02.csv\", \"r\")\n",
    "Nd = csv.reader(f2)\n",
    "\n",
    "non = []\n",
    "for idx, i in enumerate(Nd):\n",
    "    if i[1] == 'nan':\n",
    "        non.append(i[0].split('/')[-1][:-3])"
   ]
  },
  {
   "cell_type": "code",
   "execution_count": 70,
   "metadata": {},
   "outputs": [
    {
     "name": "stdout",
     "output_type": "stream",
     "text": [
      "0 /dataset2/nrc-main02/data-preprocessed/export/imu_segment/2ND08_session1_label15.csv\n",
      "Empty DataFrame\n",
      "Columns: [datetime, L_Acc_X, L_Acc_Y, L_Acc_Z, L_Gyr_X, L_Gyr_Y, L_Gyr_Z, R_Acc_X, R_Acc_Y, R_Acc_Z, R_Gyr_X, R_Gyr_Y, R_Gyr_Z, session, label]\n",
      "Index: []\n",
      "1 /dataset2/nrc-main02/data-preprocessed/export/imu_segment/2ND08_session1_label08.csv\n",
      "Empty DataFrame\n",
      "Columns: [datetime, L_Acc_X, L_Acc_Y, L_Acc_Z, L_Gyr_X, L_Gyr_Y, L_Gyr_Z, R_Acc_X, R_Acc_Y, R_Acc_Z, R_Gyr_X, R_Gyr_Y, R_Gyr_Z, session, label]\n",
      "Index: []\n",
      "2 /dataset2/nrc-main02/data-preprocessed/export/imu_segment/2ND08_session1_label14.csv\n",
      "Empty DataFrame\n",
      "Columns: [datetime, L_Acc_X, L_Acc_Y, L_Acc_Z, L_Gyr_X, L_Gyr_Y, L_Gyr_Z, R_Acc_X, R_Acc_Y, R_Acc_Z, R_Gyr_X, R_Gyr_Y, R_Gyr_Z, session, label]\n",
      "Index: []\n",
      "3 /dataset2/nrc-main02/data-preprocessed/export/imu_segment/2ND08_session1_label06.csv\n",
      "Empty DataFrame\n",
      "Columns: [datetime, L_Acc_X, L_Acc_Y, L_Acc_Z, L_Gyr_X, L_Gyr_Y, L_Gyr_Z, R_Acc_X, R_Acc_Y, R_Acc_Z, R_Gyr_X, R_Gyr_Y, R_Gyr_Z, session, label]\n",
      "Index: []\n",
      "4 /dataset2/nrc-main02/data-preprocessed/export/imu_segment/2ND08_session1_label09.csv\n",
      "Empty DataFrame\n",
      "Columns: [datetime, L_Acc_X, L_Acc_Y, L_Acc_Z, L_Gyr_X, L_Gyr_Y, L_Gyr_Z, R_Acc_X, R_Acc_Y, R_Acc_Z, R_Gyr_X, R_Gyr_Y, R_Gyr_Z, session, label]\n",
      "Index: []\n",
      "5 /dataset2/nrc-main02/data-preprocessed/export/imu_segment/2ND08_session1_label12.csv\n",
      "Empty DataFrame\n",
      "Columns: [datetime, L_Acc_X, L_Acc_Y, L_Acc_Z, L_Gyr_X, L_Gyr_Y, L_Gyr_Z, R_Acc_X, R_Acc_Y, R_Acc_Z, R_Gyr_X, R_Gyr_Y, R_Gyr_Z, session, label]\n",
      "Index: []\n",
      "6 /dataset2/nrc-main02/data-preprocessed/export/imu_segment/2ND08_session1_label10.csv\n",
      "Empty DataFrame\n",
      "Columns: [datetime, L_Acc_X, L_Acc_Y, L_Acc_Z, L_Gyr_X, L_Gyr_Y, L_Gyr_Z, R_Acc_X, R_Acc_Y, R_Acc_Z, R_Gyr_X, R_Gyr_Y, R_Gyr_Z, session, label]\n",
      "Index: []\n",
      "7 /dataset2/nrc-main02/data-preprocessed/export/imu_segment/2ND08_session1_label05.csv\n",
      "Empty DataFrame\n",
      "Columns: [datetime, L_Acc_X, L_Acc_Y, L_Acc_Z, L_Gyr_X, L_Gyr_Y, L_Gyr_Z, R_Acc_X, R_Acc_Y, R_Acc_Z, R_Gyr_X, R_Gyr_Y, R_Gyr_Z, session, label]\n",
      "Index: []\n",
      "8 /dataset2/nrc-main02/data-preprocessed/export/imu_segment/2ND08_session1_label07.csv\n",
      "Empty DataFrame\n",
      "Columns: [datetime, L_Acc_X, L_Acc_Y, L_Acc_Z, L_Gyr_X, L_Gyr_Y, L_Gyr_Z, R_Acc_X, R_Acc_Y, R_Acc_Z, R_Gyr_X, R_Gyr_Y, R_Gyr_Z, session, label]\n",
      "Index: []\n",
      "9 /dataset2/nrc-main02/data-preprocessed/export/imu_segment/2ND08_session1_label11.csv\n",
      "Empty DataFrame\n",
      "Columns: [datetime, L_Acc_X, L_Acc_Y, L_Acc_Z, L_Gyr_X, L_Gyr_Y, L_Gyr_Z, R_Acc_X, R_Acc_Y, R_Acc_Z, R_Gyr_X, R_Gyr_Y, R_Gyr_Z, session, label]\n",
      "Index: []\n",
      "10 /dataset2/nrc-main02/data-preprocessed/export/imu_segment/2ND08_session1_label13.csv\n",
      "Empty DataFrame\n",
      "Columns: [datetime, L_Acc_X, L_Acc_Y, L_Acc_Z, L_Gyr_X, L_Gyr_Y, L_Gyr_Z, R_Acc_X, R_Acc_Y, R_Acc_Z, R_Gyr_X, R_Gyr_Y, R_Gyr_Z, session, label]\n",
      "Index: []\n"
     ]
    }
   ],
   "source": [
    "for idx, i in enumerate(non):\n",
    "    get_index = jerk_list.index('/dataset2/nrc-main02/data-preprocessed/export/imu_segment/'+i+'csv')\n",
    "\n",
    "    print(idx, jerk_list[get_index])\n",
    "    data_df = pd.read_csv(jerk_list[get_index], index_col=0)\n",
    "    print(data_df)"
   ]
  },
  {
   "cell_type": "code",
   "execution_count": null,
   "metadata": {},
   "outputs": [],
   "source": [
    "from STGCN_rehab.GCN import *\n",
    "import tensorflow as tf\n",
    "from tensorflow import keras"
   ]
  },
  {
   "cell_type": "code",
   "execution_count": null,
   "metadata": {},
   "outputs": [
    {
     "name": "stderr",
     "output_type": "stream",
     "text": [
      "/home/neuronS1/anaconda3/envs/NRC-rehab/lib/python3.7/site-packages/tensorflow/python/keras/layers/core.py:1059: UserWarning: sgcn_lstm is not loaded, but a Lambda layer uses it. It may cause errors.\n",
      "  , UserWarning)\n",
      "2025-03-20 19:52:10.777508: I tensorflow/compiler/jit/xla_cpu_device.cc:41] Not creating XLA devices, tf_xla_enable_xla_devices not set\n",
      "2025-03-20 19:52:10.778317: I tensorflow/stream_executor/platform/default/dso_loader.cc:49] Successfully opened dynamic library libcuda.so.1\n",
      "2025-03-20 19:52:10.783670: I tensorflow/core/common_runtime/gpu/gpu_device.cc:1720] Found device 0 with properties: \n",
      "pciBusID: 0000:1a:00.0 name: NVIDIA GeForce RTX 4090 computeCapability: 8.9\n",
      "coreClock: 2.52GHz coreCount: 128 deviceMemorySize: 23.65GiB deviceMemoryBandwidth: 938.86GiB/s\n",
      "2025-03-20 19:52:10.783802: I tensorflow/core/common_runtime/gpu/gpu_device.cc:1720] Found device 1 with properties: \n",
      "pciBusID: 0000:68:00.0 name: NVIDIA GeForce RTX 4090 computeCapability: 8.9\n",
      "coreClock: 2.52GHz coreCount: 128 deviceMemorySize: 23.65GiB deviceMemoryBandwidth: 938.86GiB/s\n",
      "2025-03-20 19:52:10.783822: I tensorflow/stream_executor/platform/default/dso_loader.cc:49] Successfully opened dynamic library libcudart.so.11.0\n",
      "2025-03-20 19:52:10.801661: I tensorflow/stream_executor/platform/default/dso_loader.cc:49] Successfully opened dynamic library libcublas.so.11\n",
      "2025-03-20 19:52:10.801755: I tensorflow/stream_executor/platform/default/dso_loader.cc:49] Successfully opened dynamic library libcublasLt.so.11\n",
      "2025-03-20 19:52:10.804194: I tensorflow/stream_executor/platform/default/dso_loader.cc:49] Successfully opened dynamic library libcufft.so.10\n",
      "2025-03-20 19:52:10.804547: I tensorflow/stream_executor/platform/default/dso_loader.cc:49] Successfully opened dynamic library libcurand.so.10\n",
      "2025-03-20 19:52:10.804729: W tensorflow/stream_executor/platform/default/dso_loader.cc:60] Could not load dynamic library 'libcusolver.so.10'; dlerror: libcusolver.so.10: cannot open shared object file: No such file or directory; LD_LIBRARY_PATH: usr/local/cuda/lib64:\n",
      "2025-03-20 19:52:10.805425: I tensorflow/stream_executor/platform/default/dso_loader.cc:49] Successfully opened dynamic library libcusparse.so.11\n",
      "2025-03-20 19:52:10.805593: I tensorflow/stream_executor/platform/default/dso_loader.cc:49] Successfully opened dynamic library libcudnn.so.8\n",
      "2025-03-20 19:52:10.805604: W tensorflow/core/common_runtime/gpu/gpu_device.cc:1757] Cannot dlopen some GPU libraries. Please make sure the missing libraries mentioned above are installed properly if you would like to use GPU. Follow the guide at https://www.tensorflow.org/install/gpu for how to download and setup the required libraries for your platform.\n",
      "Skipping registering GPU devices...\n",
      "2025-03-20 19:52:10.805951: I tensorflow/core/platform/cpu_feature_guard.cc:142] This TensorFlow binary is optimized with oneAPI Deep Neural Network Library (oneDNN) to use the following CPU instructions in performance-critical operations:  AVX512F\n",
      "To enable them in other operations, rebuild TensorFlow with the appropriate compiler flags.\n",
      "2025-03-20 19:52:10.807197: I tensorflow/compiler/jit/xla_gpu_device.cc:99] Not creating XLA devices, tf_xla_enable_xla_devices not set\n",
      "2025-03-20 19:52:10.807233: I tensorflow/core/common_runtime/gpu/gpu_device.cc:1261] Device interconnect StreamExecutor with strength 1 edge matrix:\n",
      "2025-03-20 19:52:10.807241: I tensorflow/core/common_runtime/gpu/gpu_device.cc:1267]      \n"
     ]
    }
   ],
   "source": [
    "algorithm = keras.models.load_model('/home/neuronS1/NRC/STGCN_rehab/pretrain model/_best_model.hdf5', custom_objects={'tf': tf})"
   ]
  },
  {
   "cell_type": "code",
   "execution_count": 18,
   "metadata": {},
   "outputs": [],
   "source": [
    "_, test_y = data_loader.__getitem__(0)\n",
    "test_x = np.expand_dims(data_loader.scaled_x[0], axis=0)"
   ]
  },
  {
   "cell_type": "code",
   "execution_count": 23,
   "metadata": {},
   "outputs": [],
   "source": [
    "text_x = orin_data.scaled_x\n",
    "test_y = orin_data.scaled_y"
   ]
  },
  {
   "cell_type": "code",
   "execution_count": 28,
   "metadata": {},
   "outputs": [
    {
     "data": {
      "text/plain": [
       "array([[48.333]])"
      ]
     },
     "execution_count": 28,
     "metadata": {},
     "output_type": "execute_result"
    }
   ],
   "source": [
    "orin_data.train_y"
   ]
  },
  {
   "cell_type": "code",
   "execution_count": 30,
   "metadata": {},
   "outputs": [
    {
     "name": "stdout",
     "output_type": "stream",
     "text": [
      "[[0.]] [[47.80596]]\n"
     ]
    }
   ],
   "source": [
    "pred_y = algorithm.predict(test_x)\n",
    "pred_y = orin_data.sc2.inverse_transform(pred_y)\n",
    "print(test_y, pred_y)"
   ]
  },
  {
   "cell_type": "code",
   "execution_count": 2,
   "metadata": {},
   "outputs": [],
   "source": [
    "import STGCN_rehab.Data\n",
    "from STGCN_rehab.GCN import data_processing as dp"
   ]
  },
  {
   "cell_type": "code",
   "execution_count": 3,
   "metadata": {},
   "outputs": [],
   "source": [
    "data_loader = dp.NRC_Data_Loader('/home/neuronS1/NRC/NRC_rehab_train_ND_01.csv')"
   ]
  },
  {
   "cell_type": "code",
   "execution_count": 10,
   "metadata": {},
   "outputs": [],
   "source": [
    "orin_data = dp.Data_Loader('/dataset2/KIMORE/CG/Expert/E_ID4/Es5/Raw/JointPosition021214_123055.csv', '/home/neuronS1/NRC/Train_Y.csv')"
   ]
  },
  {
   "cell_type": "code",
   "execution_count": 11,
   "metadata": {},
   "outputs": [
    {
     "data": {
      "text/plain": [
       "(1, 100, 25, 3)"
      ]
     },
     "execution_count": 11,
     "metadata": {},
     "output_type": "execute_result"
    }
   ],
   "source": [
    "orin_data.scaled_x.shape"
   ]
  },
  {
   "cell_type": "code",
   "execution_count": 13,
   "metadata": {},
   "outputs": [
    {
     "data": {
      "text/plain": [
       "(1548, 283, 25, 3)"
      ]
     },
     "execution_count": 13,
     "metadata": {},
     "output_type": "execute_result"
    }
   ],
   "source": [
    "data_loader.scaled_x.shape"
   ]
  },
  {
   "cell_type": "code",
   "execution_count": 2,
   "metadata": {},
   "outputs": [
    {
     "ename": "ModuleNotFoundError",
     "evalue": "No module named 'preprocess'",
     "output_type": "error",
     "traceback": [
      "\u001b[0;31m---------------------------------------------------------------------------\u001b[0m",
      "\u001b[0;31mModuleNotFoundError\u001b[0m                       Traceback (most recent call last)",
      "\u001b[0;32m/tmp/ipykernel_256417/2762874325.py\u001b[0m in \u001b[0;36m<module>\u001b[0;34m\u001b[0m\n\u001b[0;32m----> 1\u001b[0;31m \u001b[0;32mimport\u001b[0m \u001b[0mpreprocess\u001b[0m\u001b[0;34m\u001b[0m\u001b[0;34m\u001b[0m\u001b[0m\n\u001b[0m",
      "\u001b[0;31mModuleNotFoundError\u001b[0m: No module named 'preprocess'"
     ]
    }
   ],
   "source": [
    "import preprocess"
   ]
  },
  {
   "cell_type": "code",
   "execution_count": 1,
   "metadata": {},
   "outputs": [
    {
     "name": "stderr",
     "output_type": "stream",
     "text": [
      "/home/neuronS1/anaconda3/envs/NRC/lib/python3.7/site-packages/tqdm/auto.py:22: TqdmWarning: IProgress not found. Please update jupyter and ipywidgets. See https://ipywidgets.readthedocs.io/en/stable/user_install.html\n",
      "  from .autonotebook import tqdm as notebook_tqdm\n"
     ]
    }
   ],
   "source": [
    "import my_rehab.sgcn_lstm\n",
    "from my_rehab.sgcn_lstm import *\n",
    "from my_rehab.data_processing import Data_set, NRC_Data_set\n",
    "from my_rehab.graph import Graph\n",
    "\n",
    "import numpy as np"
   ]
  },
  {
   "cell_type": "code",
   "execution_count": 2,
   "metadata": {},
   "outputs": [
    {
     "name": "stdout",
     "output_type": "stream",
     "text": [
      " Load DATA 1547 / 1548"
     ]
    }
   ],
   "source": [
    "trainDataset = NRC_Data_set('/home/neuronS1/NRC/NRC_rehab_train_ND_01.csv')  # folder name -> Train.csv, Test.csv"
   ]
  }
 ],
 "metadata": {
  "kernelspec": {
   "display_name": "NRC-rehab",
   "language": "python",
   "name": "python3"
  },
  "language_info": {
   "codemirror_mode": {
    "name": "ipython",
    "version": 3
   },
   "file_extension": ".py",
   "mimetype": "text/x-python",
   "name": "python",
   "nbconvert_exporter": "python",
   "pygments_lexer": "ipython3",
   "version": "3.7.16"
  }
 },
 "nbformat": 4,
 "nbformat_minor": 2
}
